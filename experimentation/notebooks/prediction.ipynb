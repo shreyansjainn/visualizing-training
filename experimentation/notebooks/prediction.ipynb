{
 "cells": [
  {
   "cell_type": "code",
   "execution_count": 1,
   "metadata": {},
   "outputs": [],
   "source": [
    "import numpy as np\n",
    "from sklearn.linear_model import LinearRegression\n",
    "import statsmodels.api as sm\n",
    "import glob\n",
    "import pandas as pd\n",
    "from scipy.stats import wasserstein_distance, pearsonr, zscore, t\n",
    "from scipy.special import kl_div\n",
    "import matplotlib\n",
    "import matplotlib.pyplot as plt\n",
    "import pickle\n",
    "from tqdm import tqdm\n",
    "import seaborn as sns\n",
    "\n",
    "import torch\n",
    "from torchvision import datasets, transforms\n",
    "\n",
    "from torch_cka import CKA\n",
    "\n",
    "from src.model import MLP, Transformer\n",
    "from src.data import ModularArithmetic, SparseParity"
   ]
  },
  {
   "cell_type": "code",
   "execution_count": 2,
   "metadata": {},
   "outputs": [],
   "source": [
    "np.set_printoptions(precision=3, suppress=True)\n",
    "sns.set_style(\"whitegrid\")\n",
    "matplotlib.rcParams.update({'font.size': 20})"
   ]
  },
  {
   "cell_type": "code",
   "execution_count": 4,
   "metadata": {},
   "outputs": [],
   "source": [
    "# load predictions\n",
    "def make_dfs(data_dir, first_n=1000):\n",
    "    dfs = [\n",
    "        (file, pd.read_csv(file)\n",
    "        .sort_values(\"step\")\n",
    "        # .sort_values(\"epoch\")\n",
    "        .reset_index(drop=True)\n",
    "        .head(first_n)\n",
    "        )  \n",
    "        for file in glob.glob(data_dir + \"*\")\n",
    "    ]\n",
    "    file_names, dfs = zip(*dfs)\n",
    "    return file_names, dfs\n",
    "\n",
    "def make_hmm_data(dfs, cols):\n",
    "    dfs = [df[cols] for df in dfs]\n",
    "    \n",
    "    data = np.vstack(\n",
    "        [np.apply_along_axis(zscore, 0, df.to_numpy()) for df in dfs]\n",
    "    )\n",
    "    return data\n",
    "\n",
    "def break_list_by_lengths(lst, lengths):\n",
    "    results = []\n",
    "    start_index = 0\n",
    "    \n",
    "    for length in lengths:\n",
    "        sublist = lst[start_index:start_index + length]\n",
    "        results.append(sublist)\n",
    "        start_index += length\n",
    "    \n",
    "    return results\n",
    "\n",
    "\n",
    "def get_convergence_epochs(dfs, column, threshold=0.5):\n",
    "    conv = []\n",
    "    max_len = max([len(df) for df in dfs])\n",
    "    for i, df in enumerate(dfs):\n",
    "        first_index = df[df[column] > threshold].index.tolist()\n",
    "\n",
    "        if first_index:\n",
    "            conv.append(first_index[0])\n",
    "        else:\n",
    "            conv.append(max_len)\n",
    "            \n",
    "    return conv\n",
    "\n",
    "def get_predictions(model_pth, data_dir, n_components, cols_to_keep):\n",
    "    with open(model_pth, 'rb') as f:\n",
    "        model = pickle.load(f)['best_models'][n_components-1]\n",
    "    file_names, dfs = make_dfs(data_dir)\n",
    "    data = make_hmm_data(dfs, cols_to_keep)\n",
    "    lengths =  [len(df) for df in dfs]\n",
    "\n",
    "    print(model.score(data, lengths=lengths))\n",
    "    predictions = break_list_by_lengths(model.predict(data, lengths=lengths), lengths)\n",
    "    return predictions\n",
    "\n",
    "# convert integer vector into a count vector\n",
    "def get_count_vector(prediction, n_components, threshold=10):\n",
    "    prediction = prediction[:threshold]\n",
    "    count_vector = np.zeros(n_components)\n",
    "    for i in range(n_components):\n",
    "        count_vector[i] = np.sum(prediction == i)\n",
    "    return count_vector\n",
    "\n",
    "\n",
    "def get_regression_vectors(file_paths, column, threshold, num_iters):\n",
    "    file_names, dfs = make_dfs(file_paths)\n",
    "    num_components = int(file_names[0].split('/')[-1].split('_')[0])\n",
    "\n",
    "    x = [get_count_vector(df['latent_state'], num_components, num_iters) for df in dfs]\n",
    "    # x = [normalize(get_count_vector(df['latent_state'], num_components, num_iters)) for df in dfs]\n",
    "    convergence_epochs = get_convergence_epochs(dfs, column, threshold)\n",
    "    avg_accuracies = [df['eval_accuracy'][-5:].mean() for df in dfs]\n",
    "\n",
    "    return x, convergence_epochs, avg_accuracies\n",
    "\n",
    "def get_regression_results(file_paths, column, threshold, num_iters=100):\n",
    "    x, convergence_epochs, avg_accuracies = get_regression_vectors(file_paths, column, threshold, num_iters)\n",
    "    model = sm.OLS(convergence_epochs, x)\n",
    "    results = model.fit()\n",
    "    print(results.summary())\n",
    "\n",
    "    model = sm.OLS(avg_accuracies, x)\n",
    "    results = model.fit()\n",
    "    print(results.summary())\n",
    "\n",
    "def model_selection(model_pth, data_dir, cols_to_keep, column, convergence_threshold, first_k):\n",
    "    file_names, dfs = make_dfs(data_dir, first_k)\n",
    "    data = make_hmm_data(dfs, cols_to_keep)\n",
    "    lengths =  [len(df) for df in dfs]\n",
    "\n",
    "    # avg_accuracy = [df['eval_accuracy'][-5:].mean() for df in dfs]\n",
    "    convergence_epochs = get_convergence_epochs(dfs, column, convergence_threshold)\n",
    "    print(convergence_epochs)\n",
    "\n",
    "    for i in range(8):\n",
    "        with open(model_pth, 'rb') as f:\n",
    "            model = pickle.load(f)['best_models'][i]\n",
    "        \n",
    "        print(model.score(data, lengths=lengths)) # sanity check\n",
    "        predictions = break_list_by_lengths(model.predict(data, lengths=lengths), lengths)\n",
    "        # print(predictions[0])\n",
    "        dfs = [df.assign(latent_state=prediction) for df, prediction in zip(dfs, predictions)]\n",
    "\n",
    "        counts = [get_count_vector(df['latent_state'], i+1, first_k) for df in dfs]\n",
    "        # print(counts[0])\n",
    "\n",
    "        reg = LinearRegression().fit(counts, convergence_epochs)\n",
    "        print(f\"# components: {i+1}. R^2: {reg.score(counts, convergence_epochs)}\")\n",
    "\n",
    "    \n",
    "def normalize(vector):\n",
    "    return vector / np.sum(vector)\n",
    "    \n",
    "def get_emds(file_paths, n_components, threshold=10):\n",
    "    file_names, dfs = make_dfs(file_paths)\n",
    "    num_components = int(file_names[0].split('/')[-1].split('_')[0])\n",
    "    n = len(dfs)\n",
    "    counts = [get_count_vector(df['latent_state'], num_components, threshold=threshold) for df in dfs]\n",
    "    \n",
    "    emds = np.zeros((n, n))\n",
    "    for i in range(len(counts)):\n",
    "        # print(counts[i])\n",
    "        for j in range(i):\n",
    "            # https://stackoverflow.com/questions/76049158/wasserstein-distance-in-scipy-definition-of-support\n",
    "\n",
    "            emds[i, j] = wasserstein_distance(np.arange(n_components), np.arange(n_components), normalize(counts[i]), normalize(counts[j]))\n",
    "            \n",
    "    # flatten, remove upper triangle and diagonal\n",
    "    emds = emds[np.tril_indices(n, k=-1)]\n",
    "    return emds"
   ]
  },
  {
   "cell_type": "code",
   "execution_count": 17,
   "metadata": {},
   "outputs": [
    {
     "name": "stdout",
     "output_type": "stream",
     "text": [
      "2\n",
      "['./results/modular/6_lr0.001_adamw_seed35_scaling1.0.csv', './results/modular/6_lr0.001_adamw_seed18_scaling1.0.csv']\n"
     ]
    }
   ],
   "source": [
    "# sorting by path\n",
    "\n",
    "d = []\n",
    "\n",
    "for pth in glob.glob('./results/modular/*'):\n",
    "    df = pd.read_csv(pth)\n",
    "    latent_states = set(df['latent_state'])\n",
    "    # modular\n",
    "    if 5 not in latent_states and 2 not in latent_states:\n",
    "    # if 5 in latent_states:\n",
    "    # if 5 not in latent_states and 2 in latent_states:\n",
    "\n",
    "    # cifar 100 destabilized\n",
    "    if 1 not in latent_states:\n",
    "        d.append(pth)\n",
    "\n",
    "print(len(d))\n",
    "print(d)"
   ]
  },
  {
   "cell_type": "code",
   "execution_count": 18,
   "metadata": {},
   "outputs": [
    {
     "name": "stdout",
     "output_type": "stream",
     "text": [
      "[110, 253] 181.5 71.5\n"
     ]
    }
   ],
   "source": [
    "dfs = [pd.read_csv(file).sort_values(\"step\") for file in d]\n",
    "conv = get_convergence_epochs(dfs, \"eval_accuracy\", threshold=0.7)\n",
    "print(conv, np.mean(conv), np.std(conv))"
   ]
  },
  {
   "cell_type": "code",
   "execution_count": 7,
   "metadata": {},
   "outputs": [
    {
     "name": "stdout",
     "output_type": "stream",
     "text": [
      "[452 444 408 476 480 476 432 476 440 464 488 472 432 416 448 436 520 440\n",
      " 484 440 432 456 484 508 456 440 448 448 444 472 476 444 456 440 428 444\n",
      " 488 464 504 432]\n"
     ]
    },
    {
     "data": {
      "image/png": "[encoded data removed]",
      "text/plain": [
       "<Figure size 800x400 with 1 Axes>"
      ]
     },
     "metadata": {},
     "output_type": "display_data"
    }
   ],
   "source": [
    "# file = \"modular\" \n",
    "# step_size = 10\n",
    "# threshold = 0.9\n",
    "# xmin=0\n",
    "# xmax=10000\n",
    "\n",
    "# file = \"parities\" \n",
    "# step_size = 1\n",
    "# threshold = 0.9\n",
    "# xmin=50\n",
    "# xmax=200\n",
    "\n",
    "file = \"mnist_v2\" \n",
    "step_size = 4\n",
    "threshold = 0.97\n",
    "xmin=350\n",
    "xmax=550\n",
    "\n",
    "# file = \"cifar100_v3/True_True/\"\n",
    "# # file = \"cifar100_v3/False_False/\"\n",
    "# step_size = 20\n",
    "# # threshold = 0.4\n",
    "# threshold = 0.6\n",
    "# xmin=0\n",
    "# xmax=12000\n",
    "\n",
    "\n",
    "# dfs = [pd.read_csv(file).sort_values(\"step\") for file in glob.glob('./results/modular/*')]\n",
    "# dfs = [pd.read_csv(file).sort_values(\"step\") for file in glob.glob('./results/modular_ln/*')]\n",
    "# dfs = [pd.read_csv(file).sort_values(\"step\") for file in glob.glob('./results/parities/*')]\n",
    "# dfs = [pd.read_csv(file).sort_values(\"step\") for file in glob.glob('./results/cifar100_v3/False_False/*')]\n",
    "# dfs = [pd.read_csv(file).sort_values(\"step\") for file in glob.glob('./results/cifar100_v3/True_True/*')]\n",
    "dfs = [pd.read_csv(file).sort_values(\"step\") for file in glob.glob(f'./results/{file}/*')]\n",
    "\n",
    "\n",
    "conv = np.array(get_convergence_epochs(dfs, \"eval_accuracy\", threshold=threshold)) * step_size\n",
    "print(conv)\n",
    "plt.figure(figsize=(8,4))\n",
    "bin_edges = np.linspace(xmin, xmax, num=10)\n",
    "\n",
    "plt.hist(conv, bins=bin_edges)\n",
    "plt.xlabel('Convergence step')\n",
    "plt.xlim(xmin, xmax)\n",
    "plt.ylabel('Count')\n",
    "# plt.savefig(f\"./figures/histograms/cifar100_tt\", dpi=300, bbox_inches=\"tight\")\n",
    "plt.savefig(f\"./figures/histograms/{file}\", dpi=300, bbox_inches=\"tight\")"
   ]
  },
  {
   "cell_type": "code",
   "execution_count": 18,
   "metadata": {},
   "outputs": [
    {
     "data": {
      "text/plain": [
       "array([6000, 6000, 6000, 6000, 6000, 6000, 6000, 6000, 6000, 6000, 6000,\n",
       "       6000, 6000, 6000, 6000, 6000, 6000, 6000, 6000, 6000, 6000, 6000,\n",
       "       6000, 6000, 6000, 6000, 6000, 6000, 6000, 6000, 6000, 6000, 6000,\n",
       "       6000, 6000, 6000, 6000, 6000, 6000, 6000])"
      ]
     },
     "execution_count": 18,
     "metadata": {},
     "output_type": "execute_result"
    }
   ],
   "source": [
    "conv"
   ]
  },
  {
   "cell_type": "code",
   "execution_count": 23,
   "metadata": {},
   "outputs": [
    {
     "name": "stderr",
     "output_type": "stream",
     "text": [
      "100%|██████████| 300/300 [00:43<00:00,  6.87it/s]\n"
     ]
    }
   ],
   "source": [
    "r2s = []\n",
    "\n",
    "file_paths = '/scratch/myh2014/modeling-training/results/parities/'\n",
    "file_names, dfs = make_dfs(file_paths)\n",
    "for i in tqdm(range(len(dfs[0]['latent_state']))):\n",
    "    x, convergence_epochs, avg_accuracies = get_regression_vectors(file_paths, 'eval_accuracy', 0.9, i)\n",
    "    model = sm.OLS(convergence_epochs, x)\n",
    "    results = model.fit()\n",
    "    r2s.append(results.rsquared)\n",
    "    \n",
    "sns.lineplot(x=np.arange(300), y=r2s)\n",
    "plt.xlabel(\"Top $k$ epochs\")\n",
    "plt.ylabel(\"$R^2$\")\n",
    "plt.savefig(\"./figures/deeper_analyses/parities_inc_pred.png\")"
   ]
  },
  {
   "cell_type": "code",
   "execution_count": 29,
   "metadata": {},
   "outputs": [
    {
     "name": "stderr",
     "output_type": "stream",
     "text": [
      "100%|██████████| 1000/1000 [03:33<00:00,  4.68it/s]\n"
     ]
    },
    {
     "data": {
      "image/png": "[encoded data removed]",
      "text/plain": [
       "<Figure size 640x480 with 1 Axes>"
      ]
     },
     "metadata": {},
     "output_type": "display_data"
    }
   ],
   "source": [
    "r2s = []\n",
    "\n",
    "file_paths = '/scratch/myh2014/modeling-training/results/modular/'\n",
    "file_names, dfs = make_dfs(file_paths)\n",
    "for i in tqdm(range(len(dfs[0]['latent_state']))):\n",
    "    x, convergence_epochs, avg_accuracies = get_regression_vectors(file_paths, 'eval_accuracy', 0.9, i)\n",
    "    model = sm.OLS(convergence_epochs, x)\n",
    "    results = model.fit()\n",
    "    r2s.append(results.rsquared)\n",
    "    \n",
    "sns.lineplot(x=np.arange(1000), y=r2s)\n",
    "plt.xlabel(\"Top $k$ epochs\")\n",
    "plt.ylabel(\"$R^2$\")\n",
    "plt.savefig(\"./figures/deeper_analyses/modular_inc_pred.png\")"
   ]
  },
  {
   "cell_type": "code",
   "execution_count": 66,
   "metadata": {},
   "outputs": [
    {
     "data": {
      "image/png": "[encoded data removed]",
      "text/plain": [
       "<Figure size 640x480 with 1 Axes>"
      ]
     },
     "metadata": {},
     "output_type": "display_data"
    }
   ],
   "source": [
    "file_paths = '/scratch/myh2014/modeling-training/results/parities/'\n",
    "file_names, dfs = make_dfs(file_paths)\n",
    "df = pd.concat(dfs)\n",
    "\n",
    "# fig, ax = plt.subplots(figsize=(10, 5))\n",
    "df.rename(columns={'step': 'Epoch', 'latent_state': 'Latent State'}, inplace=True)\n",
    "ax = sns.histplot(data=df, x='Epoch', hue='Latent State', palette='Set2', kde=False, legend=True)\n",
    "sns.move_legend(ax, \"upper left\", bbox_to_anchor=(1, 1))\n",
    "plt.savefig(\"./figures/deeper_analyses/parities_phase_onset.png\", bbox_inches='tight')"
   ]
  },
  {
   "cell_type": "code",
   "execution_count": 72,
   "metadata": {},
   "outputs": [
    {
     "data": {
      "image/png": "[encoded data removed]",
      "text/plain": [
       "<Figure size 640x480 with 1 Axes>"
      ]
     },
     "metadata": {},
     "output_type": "display_data"
    }
   ],
   "source": [
    "_, convergence_epochs,_ = get_regression_vectors(file_paths, 'eval_accuracy', 0.9, i)\n",
    "ax = sns.histplot(x=convergence_epochs)\n",
    "ax.set_xlim([0, 300])\n",
    "ax.set_xlabel(\"Convergence Epoch\")\n",
    "plt.savefig(\"./figures/deeper_analyses/parities_convergence_epoch.png\", bbox_inches='tight')"
   ]
  },
  {
   "cell_type": "code",
   "execution_count": 73,
   "metadata": {},
   "outputs": [
    {
     "data": {
      "image/png": "[encoded data removed]",
      "text/plain": [
       "<Figure size 640x480 with 1 Axes>"
      ]
     },
     "metadata": {},
     "output_type": "display_data"
    }
   ],
   "source": [
    "file_paths = '/scratch/myh2014/modeling-training/results/modular/'\n",
    "file_names, dfs = make_dfs(file_paths)\n",
    "df = pd.concat(dfs)\n",
    "\n",
    "df.rename(columns={'step': 'Epoch', 'latent_state': 'Latent State'}, inplace=True)\n",
    "ax = sns.histplot(data=df, x='Epoch', hue='Latent State', palette='Set2', kde=False, legend=True)\n",
    "sns.move_legend(ax, \"upper left\", bbox_to_anchor=(1, 1))\n",
    "plt.savefig(\"./figures/deeper_analyses/modular_phase_onset.png\", bbox_inches='tight')"
   ]
  },
  {
   "cell_type": "code",
   "execution_count": 75,
   "metadata": {},
   "outputs": [
    {
     "data": {
      "image/png": "[encoded data removed]",
      "text/plain": [
       "<Figure size 640x480 with 1 Axes>"
      ]
     },
     "metadata": {},
     "output_type": "display_data"
    }
   ],
   "source": [
    "_, convergence_epochs,_ = get_regression_vectors(file_paths, 'eval_accuracy', 0.9, i)\n",
    "ax = sns.histplot(x=convergence_epochs)\n",
    "ax.set_xlim([0, 1000])\n",
    "ax.set_xlabel(\"Convergence Epoch\")\n",
    "plt.savefig(\"./figures/deeper_analyses/modular_convergence_epoch.png\", bbox_inches='tight')"
   ]
  },
  {
   "cell_type": "code",
   "execution_count": 43,
   "metadata": {},
   "outputs": [],
   "source": [
    "first_transitions = []\n",
    "for file_name, df in zip(file_names, dfs):\n",
    "    transition = 0\n",
    "    latent_state = df['latent_state']\n",
    "    bigrams = [(x[0], x[1]) for x in zip(latent_state[:-1], latent_state[1:])]\n",
    "    for bigram in bigrams:\n",
    "        if bigram[1] != 2:\n",
    "            first_transitions.append(bigram[1])\n",
    "            break\n",
    "#     if (1, 3) in bigrams:\n",
    "#         transition = 3\n",
    "#     if (1, 2) in bigrams:\n",
    "#         transition = 2\n",
    "#     if (1, 5) in bigrams:\n",
    "#         transition = 5\n",
    "        \n",
    "#     first_transitions.append(transition)"
   ]
  },
  {
   "cell_type": "code",
   "execution_count": 40,
   "metadata": {},
   "outputs": [
    {
     "data": {
      "text/plain": [
       "34"
      ]
     },
     "execution_count": 40,
     "metadata": {},
     "output_type": "execute_result"
    }
   ],
   "source": [
    "len(np.where(np.array(first_transitions) == 2)[0])"
   ]
  },
  {
   "cell_type": "code",
   "execution_count": 41,
   "metadata": {},
   "outputs": [
    {
     "data": {
      "text/plain": [
       "4"
      ]
     },
     "execution_count": 41,
     "metadata": {},
     "output_type": "execute_result"
    }
   ],
   "source": [
    "len(np.where(np.array(first_transitions) == 5)[0])"
   ]
  },
  {
   "cell_type": "code",
   "execution_count": 12,
   "metadata": {},
   "outputs": [
    {
     "data": {
      "text/plain": [
       "(array([118, 119, 120, 121, 122, 123, 124, 125, 126, 127, 128, 129, 130,\n",
       "        131, 132, 177, 178, 179, 180, 181, 182, 183, 184, 185, 186, 187,\n",
       "        188, 189, 190, 191, 192, 193, 194, 195, 196, 197, 198, 199]),)"
      ]
     },
     "execution_count": 12,
     "metadata": {},
     "output_type": "execute_result"
    }
   ],
   "source": [
    "np.where(np.array(r2s[:200]) > 0.35)"
   ]
  },
  {
   "cell_type": "code",
   "execution_count": 13,
   "metadata": {},
   "outputs": [
    {
     "data": {
      "text/plain": [
       "0.4082474677001976"
      ]
     },
     "execution_count": 13,
     "metadata": {},
     "output_type": "execute_result"
    }
   ],
   "source": [
    "r2s[200]"
   ]
  },
  {
   "cell_type": "code",
   "execution_count": 14,
   "metadata": {},
   "outputs": [
    {
     "data": {
      "text/plain": [
       "0.3528509092330132"
      ]
     },
     "execution_count": 14,
     "metadata": {},
     "output_type": "execute_result"
    }
   ],
   "source": [
    "r2s[118]"
   ]
  },
  {
   "cell_type": "code",
   "execution_count": 15,
   "metadata": {},
   "outputs": [
    {
     "name": "stdout",
     "output_type": "stream",
     "text": [
      "                            OLS Regression Results                            \n",
      "==============================================================================\n",
      "Dep. Variable:                      y   R-squared:                       0.353\n",
      "Model:                            OLS   Adj. R-squared:                  0.299\n",
      "Method:                 Least Squares   F-statistic:                     6.543\n",
      "Date:                Wed, 19 Jul 2023   Prob (F-statistic):            0.00120\n",
      "Time:                        14:05:23   Log-Likelihood:                -251.26\n",
      "No. Observations:                  40   AIC:                             510.5\n",
      "Df Residuals:                      36   BIC:                             517.3\n",
      "Df Model:                           3                                         \n",
      "Covariance Type:            nonrobust                                         \n",
      "==============================================================================\n",
      "                 coef    std err          t      P>|t|      [0.025      0.975]\n",
      "------------------------------------------------------------------------------\n",
      "const               0          0        nan        nan           0           0\n",
      "x1             4.6778      0.546      8.574      0.000       3.571       5.784\n",
      "x2            -1.3604      1.023     -1.330      0.192      -3.435       0.715\n",
      "x3          -437.3030    150.564     -2.904      0.006    -742.661    -131.944\n",
      "x4                  0          0        nan        nan           0           0\n",
      "x5             3.2765      1.106      2.964      0.005       1.034       5.519\n",
      "==============================================================================\n",
      "Omnibus:                        8.373   Durbin-Watson:                   2.184\n",
      "Prob(Omnibus):                  0.015   Jarque-Bera (JB):               11.136\n",
      "Skew:                           0.503   Prob(JB):                      0.00382\n",
      "Kurtosis:                       5.381   Cond. No.                          inf\n",
      "==============================================================================\n",
      "\n",
      "Notes:\n",
      "[1] Standard Errors assume that the covariance matrix of the errors is correctly specified.\n",
      "[2] The smallest eigenvalue is      0. This might indicate that there are\n",
      "strong multicollinearity problems or that the design matrix is singular.\n"
     ]
    },
    {
     "name": "stderr",
     "output_type": "stream",
     "text": [
      "/ext3/miniconda3/lib/python3.9/site-packages/statsmodels/regression/linear_model.py:1934: RuntimeWarning: divide by zero encountered in double_scalars\n",
      "  return np.sqrt(eigvals[0]/eigvals[-1])\n"
     ]
    }
   ],
   "source": [
    "x, convergence_epochs, avg_accuracies = get_regression_vectors(file_paths, 'eval_accuracy', 0.9, 118)\n",
    "model = sm.OLS(convergence_epochs, x)\n",
    "results = model.fit()\n",
    "print(results.summary())"
   ]
  },
  {
   "cell_type": "markdown",
   "metadata": {},
   "source": [
    "# Model selection"
   ]
  },
  {
   "cell_type": "code",
   "execution_count": 4,
   "metadata": {},
   "outputs": [],
   "source": [
    "# cols_to_keep = [\n",
    "#     \"l1\",\n",
    "#     \"l2\",\n",
    "#     \"trace\",\n",
    "#     \"spectral\",\n",
    "#     \"code_sparsity\",\n",
    "#     \"computational_sparsity\",\n",
    "#     \"mean_singular_value\",\n",
    "#     \"var_singular_value\",\n",
    "#     \"mean_w\",\n",
    "#     \"median_w\",\n",
    "#     \"var_w\",\n",
    "#     \"mean_b\",\n",
    "#     \"median_b\",\n",
    "#     \"var_b\",\n",
    "# ]\n",
    "\n",
    "cols_to_keep = [\n",
    "    \"l1\",\n",
    "    \"l2\",\n",
    "    \"trace\",\n",
    "    \"spectral\",\n",
    "    \"code_sparsity\",\n",
    "    \"computational_sparsity\",\n",
    "    \"mean_lambda\",\n",
    "    \"variance_lambda\",\n",
    "    \"mean_w\",\n",
    "    \"median_w\",\n",
    "    \"var_w\",\n",
    "    \"mean_b\",\n",
    "    \"median_b\",\n",
    "    \"var_b\",\n",
    "]"
   ]
  },
  {
   "cell_type": "code",
   "execution_count": 67,
   "metadata": {},
   "outputs": [
    {
     "name": "stdout",
     "output_type": "stream",
     "text": [
      "[91, 94, 82, 86, 88, 89, 89, 93, 92, 95, 92, 90, 86, 89, 87, 90, 91, 90, 89, 90, 89, 89, 96, 87, 87, 90, 88, 85, 98, 93, 93, 94, 90, 90, 96, 89, 86, 91, 95, 91]\n",
      "205504.02080352174\n",
      "# components: 1. R^2: 0.0\n",
      "276525.7746328428\n",
      "# components: 2. R^2: 0.019411854815455598\n",
      "301467.9701345866\n",
      "# components: 3. R^2: 0.02249134948096887\n",
      "316236.3011358438\n",
      "# components: 4. R^2: 0.1895916600085089\n",
      "325435.1311040439\n",
      "# components: 5. R^2: 0.14067906574394462\n",
      "333057.65814590943\n",
      "# components: 6. R^2: 0.023952271905465672\n",
      "334105.97252474184\n",
      "# components: 7. R^2: 0.0982553159297791\n",
      "338621.0483907891\n",
      "# components: 8. R^2: -0.014994232987312506\n"
     ]
    }
   ],
   "source": [
    "model_selection(\n",
    "    model_pth='/scratch/myh2014/modeling-training/data/model_selection/32/cifar100_cnn--base.pkl',\n",
    "    data_dir = '/scratch/myh2014/modeling-training/data/training_runs/cifar100_cnn/',\n",
    "    cols_to_keep=cols_to_keep,\n",
    "    column='eval_accuracy',\n",
    "    convergence_threshold=0.60,\n",
    "    first_k=300\n",
    ")"
   ]
  },
  {
   "cell_type": "code",
   "execution_count": 66,
   "metadata": {},
   "outputs": [
    {
     "name": "stdout",
     "output_type": "stream",
     "text": [
      "[23, 27, 25, 30, 26, 30, 25, 23, 19, 29, 26, 27, 33, 24, 19, 32, 25, 26, 30, 32, 22, 28, 27, 27, 25, 24, 28, 34, 23, 21, 24, 30, 29, 30, 26, 22, 28, 25, 30, 22]\n",
      "81760.31059254076\n",
      "# components: 1. R^2: 0.0\n",
      "110959.42640951341\n",
      "# components: 2. R^2: 0.005458007066462822\n",
      "126598.21097635025\n",
      "# components: 3. R^2: 0.09377387318563768\n",
      "134789.4550244703\n",
      "# components: 4. R^2: -0.02941176470588247\n",
      "140388.41684841784\n",
      "# components: 5. R^2: 0.08708938120702814\n",
      "143328.17944896797\n",
      "# components: 6. R^2: 0.04525569620391734\n",
      "143184.46866548498\n",
      "# components: 7. R^2: 0.13488030822105213\n",
      "145657.42811710283\n",
      "# components: 8. R^2: 0.28216699471486006\n"
     ]
    }
   ],
   "source": [
    "model_selection(\n",
    "    model_pth='/scratch/myh2014/modeling-training/data/model_selection/32/mnist_cnn/mnist_cnn--base.pkl',\n",
    "    data_dir = '/scratch/myh2014/modeling-training/data/training_runs/mnist_cnn/',\n",
    "    cols_to_keep=cols_to_keep,\n",
    "    column='eval_accuracy',\n",
    "    convergence_threshold=0.97,\n",
    "    first_k=200\n",
    ")"
   ]
  },
  {
   "cell_type": "code",
   "execution_count": 16,
   "metadata": {},
   "outputs": [],
   "source": [
    "a, b  = make_dfs('/scratch/myh2014/modeling-training/data/training_runs/mnist_cnn/')"
   ]
  },
  {
   "cell_type": "code",
   "execution_count": 21,
   "metadata": {},
   "outputs": [
    {
     "name": "stdout",
     "output_type": "stream",
     "text": [
      "751186.0417545151\n"
     ]
    }
   ],
   "source": [
    "preds = get_predictions(\n",
    "    model_pth='/scratch/myh2014/modeling-training/data/model_selection/32/mnist_cnn--base.pkl',\n",
    "    data_dir = '/scratch/myh2014/modeling-training/data/training_runs/mnist_cnn/',\n",
    "    cols_to_keep=cols_to_keep,\n",
    "    n_components=8\n",
    ")"
   ]
  },
  {
   "cell_type": "code",
   "execution_count": 23,
   "metadata": {},
   "outputs": [],
   "source": [
    "with open('/scratch/myh2014/modeling-training/data/model_selection/32/mnist_cnn--base.pkl', 'rb') as f:\n",
    "    data = pickle.load(f)"
   ]
  },
  {
   "cell_type": "code",
   "execution_count": 24,
   "metadata": {},
   "outputs": [
    {
     "data": {
      "text/plain": [
       "{'best_scores': [94057.99021421687,\n",
       "  117991.79309827178,\n",
       "  128236.98804934032,\n",
       "  136465.69227302578,\n",
       "  141767.0398890583,\n",
       "  142904.01871562924,\n",
       "  143988.31466103758,\n",
       "  145578.23478592793],\n",
       " 'mean_scores': [94057.99021421687,\n",
       "  116781.01146042936,\n",
       "  126770.79348906214,\n",
       "  133683.0477332395,\n",
       "  139253.2018829196,\n",
       "  138035.54483423274,\n",
       "  139042.92116224242,\n",
       "  143857.55984941297],\n",
       " 'scores_stdev': [0.0,\n",
       "  2347.0556943976435,\n",
       "  2575.6876132437615,\n",
       "  3159.8000519799875,\n",
       "  1932.6706047836926,\n",
       "  2555.0459689269474,\n",
       "  4773.935897994586,\n",
       "  870.293835478457],\n",
       " 'aics': [-187877.98042843374,\n",
       "  -233080.02292085873,\n",
       "  -252811.58697812428,\n",
       "  -266384.095466479,\n",
       "  -277268.4037658392,\n",
       "  -274573.0896684655,\n",
       "  -276323.84232448484,\n",
       "  -285685.11969882593],\n",
       " 'bics': [-187054.1206410421,\n",
       "  -231411.53377160343,\n",
       "  -250284.6220840239,\n",
       "  -262984.80844455224,\n",
       "  -272982.9482331044,\n",
       "  -269387.6192419416,\n",
       "  -270224.5106211904,\n",
       "  -278658.08033577964],\n",
       " 'best_models': [GaussianHMM(covariance_type='full', n_iter=32),\n",
       "  GaussianHMM(covariance_type='full', n_components=2, n_iter=32),\n",
       "  GaussianHMM(covariance_type='full', n_components=3, n_iter=32),\n",
       "  GaussianHMM(covariance_type='full', n_components=4, n_iter=32),\n",
       "  GaussianHMM(covariance_type='full', n_components=5, n_iter=32),\n",
       "  GaussianHMM(covariance_type='full', n_components=6, n_iter=32),\n",
       "  GaussianHMM(covariance_type='full', n_components=7, n_iter=32),\n",
       "  GaussianHMM(covariance_type='full', n_components=8, n_iter=32)]}"
      ]
     },
     "execution_count": 24,
     "metadata": {},
     "output_type": "execute_result"
    }
   ],
   "source": [
    "data"
   ]
  },
  {
   "cell_type": "code",
   "execution_count": 42,
   "metadata": {},
   "outputs": [
    {
     "name": "stdout",
     "output_type": "stream",
     "text": [
      "# components: 1. R^2: 0.0\n",
      "# components: 2. R^2: 0.2285468336762141\n",
      "# components: 3. R^2: 0.413606890107978\n",
      "# components: 4. R^2: 0.33986112485725084\n",
      "# components: 5. R^2: 0.4592461823123789\n",
      "# components: 6. R^2: 0.6395763791450221\n",
      "# components: 7. R^2: 0.8974579869928047\n",
      "# components: 8. R^2: 0.8725174386452004\n"
     ]
    }
   ],
   "source": [
    "model_selection(\n",
    "    model_pth='/scratch/myh2014/modeling-training/data/model_selection/32/modular/modular_v3_run2-full-base.pkl',\n",
    "    data_dir = '/scratch/myh2014/modeling-training/data/training_runs/modular_v3/',\n",
    "    cols_to_keep=cols_to_keep,\n",
    "    column='eval_accuracy',\n",
    "    threshold=0.5\n",
    ")"
   ]
  },
  {
   "cell_type": "code",
   "execution_count": 14,
   "metadata": {},
   "outputs": [
    {
     "name": "stdout",
     "output_type": "stream",
     "text": [
      "['spectral']\n",
      "5623.981091808399\n",
      "['spectral', 'variance_lambda']\n",
      "698.7738796153207\n",
      "['spectral', 'variance_lambda', 'mean_lambda']\n",
      "16854.39957035916\n",
      "['spectral', 'variance_lambda', 'mean_lambda', 'l2']\n",
      "42362.7211873983\n",
      "['spectral', 'variance_lambda', 'mean_lambda', 'l2', 'var_w']\n",
      "82187.21235653406\n",
      "['spectral', 'variance_lambda', 'mean_lambda', 'l2', 'var_w', 'l1']\n",
      "118318.487992054\n",
      "['spectral', 'variance_lambda', 'mean_lambda', 'l2', 'var_w', 'l1', 'code_sparsity']\n",
      "163040.91256963968\n",
      "['spectral', 'variance_lambda', 'mean_lambda', 'l2', 'var_w', 'l1', 'code_sparsity', 'var_b']\n",
      "177382.94271609903\n",
      "['spectral', 'variance_lambda', 'mean_lambda', 'l2', 'var_w', 'l1', 'code_sparsity', 'var_b', 'mean_b']\n",
      "192972.87008682522\n",
      "['spectral', 'variance_lambda', 'mean_lambda', 'l2', 'var_w', 'l1', 'code_sparsity', 'var_b', 'mean_b', 'median_b']\n",
      "211427.30897017688\n",
      "['spectral', 'variance_lambda', 'mean_lambda', 'l2', 'var_w', 'l1', 'code_sparsity', 'var_b', 'mean_b', 'median_b', 'trace']\n",
      "199646.0482692083\n",
      "['spectral', 'variance_lambda', 'mean_lambda', 'l2', 'var_w', 'l1', 'code_sparsity', 'var_b', 'mean_b', 'median_b', 'trace', 'computational_sparsity']\n",
      "187547.26569843275\n",
      "['spectral', 'variance_lambda', 'mean_lambda', 'l2', 'var_w', 'l1', 'code_sparsity', 'var_b', 'mean_b', 'median_b', 'trace', 'computational_sparsity', 'mean_w']\n",
      "164151.97981754603\n",
      "['spectral', 'variance_lambda', 'mean_lambda', 'l2', 'var_w', 'l1', 'code_sparsity', 'var_b', 'mean_b', 'median_b', 'trace', 'computational_sparsity', 'mean_w', 'median_w']\n",
      "161448.82178090894\n"
     ]
    }
   ],
   "source": [
    "# model_pth='/scratch/myh2014/modeling-training/data/model_selection/32/modular_v3-diag-ablation2.pkl'\n",
    "# data_dir = '/scratch/myh2014/modeling-training/data/training_runs/modular_v3/'\n",
    "# model_pth='/scratch/myh2014/modeling-training/data/model_selection/32/parities/parities_v3-full-base.pkl'\n",
    "data_dir = '/scratch/myh2014/modeling-training/data/training_runs/parities_v3/'\n",
    "\n",
    "cols = ['spectral', 'variance_lambda', 'mean_lambda', 'l2', 'var_w', 'l1',\n",
    "        'code_sparsity', 'var_b', 'mean_b', 'median_b', 'trace',\n",
    "        'computational_sparsity', 'mean_w', 'median_w']\n",
    "\n",
    "column='eval_accuracy'\n",
    "threshold=0.9\n",
    "num_components = [8,8,8,8,6,8,8,7,7,8,8,6,5,6]\n",
    "r2s = []\n",
    "\n",
    "\n",
    "for i, num_components in enumerate(num_components):\n",
    "    print(cols[:i+1])\n",
    "    file_names, dfs = make_dfs(data_dir)\n",
    "    data = make_hmm_data(dfs, cols[:i+1])\n",
    "    lengths =  [len(df) for df in dfs]\n",
    "    convergence_epochs = get_convergence_epochs(dfs, column, threshold)\n",
    "\n",
    "\n",
    "    with open(f'/scratch/myh2014/modeling-training/data/model_selection/32/parities_v3--parities{i+1}.pkl', 'rb') as f:\n",
    "        model = pickle.load(f)['best_models'][num_components-1]\n",
    "\n",
    "    print(model.score(data, lengths=lengths)) # sanity check\n",
    "    predictions = break_list_by_lengths(model.predict(data, lengths=lengths), lengths)\n",
    "    # print(predictions)\n",
    "    counts = [get_count_vector(prediction, i+1, 1000) for prediction in predictions]\n",
    "    # print(counts)\n",
    "\n",
    "    model = sm.OLS(convergence_epochs, counts)\n",
    "    results = model.fit()\n",
    "    r2s.append(results.rsquared)"
   ]
  },
  {
   "cell_type": "code",
   "execution_count": 5,
   "metadata": {},
   "outputs": [
    {
     "data": {
      "text/plain": [
       "Text(0.5, 1.0, 'Sparse parities')"
      ]
     },
     "execution_count": 5,
     "metadata": {},
     "output_type": "execute_result"
    },
    {
     "data": {
      "image/png": "[encoded data removed]",
      "text/plain": [
       "<Figure size 640x480 with 1 Axes>"
      ]
     },
     "metadata": {},
     "output_type": "display_data"
    }
   ],
   "source": [
    "r2s[13] = 0.961\n",
    "plt.plot(np.arange(1, 15), r2s)\n",
    "plt.xlabel(\"Number of most important features kept\")\n",
    "plt.ylabel(\"$R^2$\")\n",
    "plt.title(\"Sparse parities\")"
   ]
  },
  {
   "cell_type": "code",
   "execution_count": 76,
   "metadata": {},
   "outputs": [
    {
     "name": "stdout",
     "output_type": "stream",
     "text": [
      "['var_w']\n",
      "18743.906220923025\n",
      "['var_w', 'l1']\n",
      "62299.142788401914\n",
      "['var_w', 'l1', 'l2']\n",
      "149485.18762422708\n",
      "['var_w', 'l1', 'l2', 'mean_lambda']\n",
      "227459.19683425518\n",
      "['var_w', 'l1', 'l2', 'mean_lambda', 'variance_lambda']\n",
      "287310.26038765174\n",
      "['var_w', 'l1', 'l2', 'mean_lambda', 'variance_lambda', 'spectral']\n",
      "364181.743544243\n",
      "['var_w', 'l1', 'l2', 'mean_lambda', 'variance_lambda', 'spectral', 'code_sparsity']\n",
      "419691.3176235953\n",
      "['var_w', 'l1', 'l2', 'mean_lambda', 'variance_lambda', 'spectral', 'code_sparsity', 'mean_b']\n",
      "460085.7740107683\n",
      "['var_w', 'l1', 'l2', 'mean_lambda', 'variance_lambda', 'spectral', 'code_sparsity', 'mean_b', 'computational_sparsity']\n",
      "340472.4128350948\n",
      "['var_w', 'l1', 'l2', 'mean_lambda', 'variance_lambda', 'spectral', 'code_sparsity', 'mean_b', 'computational_sparsity', 'trace']\n",
      "303577.1581361302\n",
      "['var_w', 'l1', 'l2', 'mean_lambda', 'variance_lambda', 'spectral', 'code_sparsity', 'mean_b', 'computational_sparsity', 'trace', 'median_b']\n",
      "338310.05453808006\n",
      "['var_w', 'l1', 'l2', 'mean_lambda', 'variance_lambda', 'spectral', 'code_sparsity', 'mean_b', 'computational_sparsity', 'trace', 'median_b', 'var_b']\n",
      "307455.5766705175\n",
      "['var_w', 'l1', 'l2', 'mean_lambda', 'variance_lambda', 'spectral', 'code_sparsity', 'mean_b', 'computational_sparsity', 'trace', 'median_b', 'var_b', 'median_w']\n",
      "315762.15964921826\n",
      "['var_w', 'l1', 'l2', 'mean_lambda', 'variance_lambda', 'spectral', 'code_sparsity', 'mean_b', 'computational_sparsity', 'trace', 'median_b', 'var_b', 'median_w', 'mean_w']\n",
      "237040.42418438\n"
     ]
    }
   ],
   "source": [
    "data_dir = '/scratch/myh2014/modeling-training/data/training_runs/modular_v3/'\n",
    "\n",
    "cols = ['var_w', 'l1', 'l2', 'mean_lambda', 'variance_lambda', 'spectral',\n",
    "        'code_sparsity', 'mean_b', 'computational_sparsity', 'trace', 'median_b',\n",
    "        'var_b', 'median_w', 'mean_w']\n",
    "\n",
    "column='eval_accuracy'\n",
    "threshold=0.9\n",
    "num_components = [8,8,8,7,8,8,8,8,7,5,6,5,7,7]\n",
    "r2s = []\n",
    "\n",
    "\n",
    "for i, components in enumerate(num_components):\n",
    "    print(cols[:i+1])\n",
    "    file_names, dfs = make_dfs(data_dir)\n",
    "    data = make_hmm_data(dfs, cols[:i+1])\n",
    "    lengths =  [len(df) for df in dfs]\n",
    "    convergence_epochs = get_convergence_epochs(dfs, column, threshold)\n",
    "\n",
    "    \n",
    "    with open(f'/scratch/myh2014/modeling-training/data/model_selection/32/modular_v3--modular{i+1}.pkl', 'rb') as f:\n",
    "        model = pickle.load(f)['best_models'][components-1]\n",
    "\n",
    "    print(model.score(data, lengths=lengths)) # sanity check\n",
    "    predictions = break_list_by_lengths(model.predict(data, lengths=lengths), lengths)\n",
    "    # print(predictions)\n",
    "    counts = [get_count_vector(prediction, i+1, 1000) for prediction in predictions]\n",
    "    # print(counts)\n",
    "\n",
    "    model = sm.OLS(convergence_epochs, counts)\n",
    "    results = model.fit()\n",
    "    r2s.append(results.rsquared)"
   ]
  },
  {
   "cell_type": "code",
   "execution_count": 77,
   "metadata": {},
   "outputs": [
    {
     "data": {
      "text/plain": [
       "[0.5477777913706459,\n",
       " 0.8041712031946289,\n",
       " 0.9699374626299141,\n",
       " 0.9945934527796734,\n",
       " 0.7976090959164397,\n",
       " 0.9870637112136389,\n",
       " 0.9742057349455273,\n",
       " 0.9151564476008691,\n",
       " 0.9836072525478654,\n",
       " 0.8613170877458565,\n",
       " 0.9523529744566442,\n",
       " 0.9820322274345554,\n",
       " 0.9956349915232714,\n",
       " 0.7821811073374538]"
      ]
     },
     "execution_count": 77,
     "metadata": {},
     "output_type": "execute_result"
    }
   ],
   "source": [
    "r2s"
   ]
  },
  {
   "cell_type": "code",
   "execution_count": 10,
   "metadata": {},
   "outputs": [],
   "source": [
    "r2s[13] = 0.977"
   ]
  },
  {
   "cell_type": "code",
   "execution_count": 11,
   "metadata": {},
   "outputs": [
    {
     "data": {
      "text/plain": [
       "Text(0.5, 1.0, 'Modular addition')"
      ]
     },
     "execution_count": 11,
     "metadata": {},
     "output_type": "execute_result"
    },
    {
     "data": {
      "image/png": "[encoded data removed]",
      "text/plain": [
       "<Figure size 640x480 with 1 Axes>"
      ]
     },
     "metadata": {},
     "output_type": "display_data"
    }
   ],
   "source": [
    "plt.plot(np.arange(1, 15), r2s)\n",
    "plt.xlabel(\"Number of most important features kept\")\n",
    "plt.ylabel(\"$R^2$\")\n",
    "plt.title(\"Modular addition\")"
   ]
  },
  {
   "cell_type": "code",
   "execution_count": 12,
   "metadata": {},
   "outputs": [
    {
     "name": "stdout",
     "output_type": "stream",
     "text": [
      "61092.80095815406\n",
      "                            OLS Regression Results                            \n",
      "==============================================================================\n",
      "Dep. Variable:                      y   R-squared:                       0.858\n",
      "Model:                            OLS   Adj. R-squared:                  0.832\n",
      "Method:                 Least Squares   F-statistic:                     33.30\n",
      "Date:                Fri, 21 Jul 2023   Prob (F-statistic):           1.22e-12\n",
      "Time:                        11:09:32   Log-Likelihood:                -220.90\n",
      "No. Observations:                  40   AIC:                             455.8\n",
      "Df Residuals:                      33   BIC:                             467.6\n",
      "Df Model:                           6                                         \n",
      "Covariance Type:            nonrobust                                         \n",
      "==============================================================================\n",
      "                 coef    std err          t      P>|t|      [0.025      0.975]\n",
      "------------------------------------------------------------------------------\n",
      "x1             0.3819      0.147      2.601      0.014       0.083       0.681\n",
      "x2           -58.1643     50.638     -1.149      0.259    -161.188      44.860\n",
      "x3            60.0773     50.136      1.198      0.239     -41.926     162.080\n",
      "x4             2.8432      0.447      6.366      0.000       1.935       3.752\n",
      "x5            -1.6105      0.657     -2.452      0.020      -2.947      -0.274\n",
      "x6             0.1804      0.128      1.415      0.167      -0.079       0.440\n",
      "x7            -1.4604      0.515     -2.834      0.008      -2.509      -0.412\n",
      "const               0          0        nan        nan           0           0\n",
      "x8                  0          0        nan        nan           0           0\n",
      "x9                  0          0        nan        nan           0           0\n",
      "x10                 0          0        nan        nan           0           0\n",
      "x11                 0          0        nan        nan           0           0\n",
      "x12                 0          0        nan        nan           0           0\n",
      "x13                 0          0        nan        nan           0           0\n",
      "==============================================================================\n",
      "Omnibus:                        7.254   Durbin-Watson:                   1.642\n",
      "Prob(Omnibus):                  0.027   Jarque-Bera (JB):               10.183\n",
      "Skew:                          -0.330   Prob(JB):                      0.00615\n",
      "Kurtosis:                       5.382   Cond. No.                          inf\n",
      "==============================================================================\n",
      "\n",
      "Notes:\n",
      "[1] Standard Errors assume that the covariance matrix of the errors is correctly specified.\n",
      "[2] The smallest eigenvalue is      0. This might indicate that there are\n",
      "strong multicollinearity problems or that the design matrix is singular.\n"
     ]
    },
    {
     "name": "stderr",
     "output_type": "stream",
     "text": [
      "/ext3/miniconda3/lib/python3.9/site-packages/statsmodels/regression/linear_model.py:1934: RuntimeWarning: divide by zero encountered in double_scalars\n",
      "  return np.sqrt(eigvals[0]/eigvals[-1])\n"
     ]
    }
   ],
   "source": [
    "data_dir = '/scratch/myh2014/modeling-training/data/training_runs/modular_v3/'\n",
    "\n",
    "cols = ['spectral', 'variance_lambda']\n",
    "\n",
    "column='eval_accuracy'\n",
    "threshold=0.9\n",
    "num_components = 7\n",
    "\n",
    "\n",
    "file_names, dfs = make_dfs(data_dir)\n",
    "data = make_hmm_data(dfs, cols)\n",
    "lengths =  [len(df) for df in dfs]\n",
    "convergence_epochs = get_convergence_epochs(dfs, column, threshold)\n",
    "\n",
    "\n",
    "with open(f'/scratch/myh2014/modeling-training/data/model_selection/32/modular_v3_swap--parities_best.pkl', 'rb') as f:\n",
    "    model = pickle.load(f)['best_models'][num_components-1]\n",
    "\n",
    "print(model.score(data, lengths=lengths)) # sanity check\n",
    "predictions = break_list_by_lengths(model.predict(data, lengths=lengths), lengths)\n",
    "counts = [get_count_vector(prediction, i+1, 1000) for prediction in predictions]\n",
    "\n",
    "model = sm.OLS(convergence_epochs, counts)\n",
    "results = model.fit()\n",
    "print(results.summary())"
   ]
  },
  {
   "cell_type": "code",
   "execution_count": 13,
   "metadata": {},
   "outputs": [
    {
     "name": "stdout",
     "output_type": "stream",
     "text": [
      "58963.10831136395\n",
      "                            OLS Regression Results                            \n",
      "==============================================================================\n",
      "Dep. Variable:                      y   R-squared:                       0.952\n",
      "Model:                            OLS   Adj. R-squared:                  0.943\n",
      "Method:                 Least Squares   F-statistic:                     108.9\n",
      "Date:                Fri, 21 Jul 2023   Prob (F-statistic):           2.65e-20\n",
      "Time:                        11:11:11   Log-Likelihood:                -112.07\n",
      "No. Observations:                  40   AIC:                             238.1\n",
      "Df Residuals:                      33   BIC:                             250.0\n",
      "Df Model:                           6                                         \n",
      "Covariance Type:            nonrobust                                         \n",
      "==============================================================================\n",
      "                 coef    std err          t      P>|t|      [0.025      0.975]\n",
      "------------------------------------------------------------------------------\n",
      "x1             0.9801      0.189      5.177      0.000       0.595       1.365\n",
      "x2             0.1611      0.109      1.485      0.147      -0.060       0.382\n",
      "x3             1.3034      0.107     12.199      0.000       1.086       1.521\n",
      "x4             0.4148      0.128      3.232      0.003       0.154       0.676\n",
      "x5             0.0372      0.046      0.817      0.420      -0.055       0.130\n",
      "x6            -0.3004      0.245     -1.228      0.228      -0.798       0.197\n",
      "x7             0.8700      0.365      2.386      0.023       0.128       1.612\n",
      "const               0          0        nan        nan           0           0\n",
      "x8                  0          0        nan        nan           0           0\n",
      "x9                  0          0        nan        nan           0           0\n",
      "x10                 0          0        nan        nan           0           0\n",
      "x11                 0          0        nan        nan           0           0\n",
      "x12                 0          0        nan        nan           0           0\n",
      "x13                 0          0        nan        nan           0           0\n",
      "==============================================================================\n",
      "Omnibus:                        3.874   Durbin-Watson:                   1.363\n",
      "Prob(Omnibus):                  0.144   Jarque-Bera (JB):                2.638\n",
      "Skew:                           0.566   Prob(JB):                        0.267\n",
      "Kurtosis:                       3.550   Cond. No.                          inf\n",
      "==============================================================================\n",
      "\n",
      "Notes:\n",
      "[1] Standard Errors assume that the covariance matrix of the errors is correctly specified.\n",
      "[2] The smallest eigenvalue is      0. This might indicate that there are\n",
      "strong multicollinearity problems or that the design matrix is singular.\n"
     ]
    },
    {
     "name": "stderr",
     "output_type": "stream",
     "text": [
      "/ext3/miniconda3/lib/python3.9/site-packages/statsmodels/regression/linear_model.py:1934: RuntimeWarning: divide by zero encountered in double_scalars\n",
      "  return np.sqrt(eigvals[0]/eigvals[-1])\n"
     ]
    }
   ],
   "source": [
    "data_dir = '/scratch/myh2014/modeling-training/data/training_runs/parities_v3/'\n",
    "\n",
    "cols = ['var_w', 'l1', 'l2']\n",
    "\n",
    "column='eval_accuracy'\n",
    "threshold=0.9\n",
    "num_components = 7\n",
    "\n",
    "\n",
    "file_names, dfs = make_dfs(data_dir)\n",
    "data = make_hmm_data(dfs, cols)\n",
    "lengths =  [len(df) for df in dfs]\n",
    "convergence_epochs = get_convergence_epochs(dfs, column, threshold)\n",
    "\n",
    "\n",
    "with open(f'/scratch/myh2014/modeling-training/data/model_selection/32/parities_v3_swap--modular_best.pkl', 'rb') as f:\n",
    "    model = pickle.load(f)['best_models'][num_components-1]\n",
    "\n",
    "print(model.score(data, lengths=lengths)) # sanity check\n",
    "predictions = break_list_by_lengths(model.predict(data, lengths=lengths), lengths)\n",
    "counts = [get_count_vector(prediction, i+1, 1000) for prediction in predictions]\n",
    "\n",
    "model = sm.OLS(convergence_epochs, counts)\n",
    "results = model.fit()\n",
    "print(results.summary())"
   ]
  },
  {
   "cell_type": "code",
   "execution_count": 17,
   "metadata": {},
   "outputs": [],
   "source": [
    "data_dir = '/scratch/myh2014/modeling-training/results/mnist_250/*seed0*'\n",
    "file_names, dfs = make_dfs(data_dir)\n",
    "data = make_hmm_data(dfs, cols_to_keep)"
   ]
  },
  {
   "cell_type": "markdown",
   "metadata": {},
   "source": [
    "# Full prediction results for the best models"
   ]
  },
  {
   "cell_type": "code",
   "execution_count": 13,
   "metadata": {},
   "outputs": [
    {
     "name": "stdout",
     "output_type": "stream",
     "text": [
      "                            OLS Regression Results                            \n",
      "==============================================================================\n",
      "Dep. Variable:                      y   R-squared:                       0.977\n",
      "Model:                            OLS   Adj. R-squared:                  0.973\n",
      "Method:                 Least Squares   F-statistic:                     287.1\n",
      "Date:                Fri, 21 Jul 2023   Prob (F-statistic):           8.85e-27\n",
      "Time:                        10:49:03   Log-Likelihood:                -184.64\n",
      "No. Observations:                  40   AIC:                             381.3\n",
      "Df Residuals:                      34   BIC:                             391.4\n",
      "Df Model:                           5                                         \n",
      "Covariance Type:            nonrobust                                         \n",
      "==============================================================================\n",
      "                 coef    std err          t      P>|t|      [0.025      0.975]\n",
      "------------------------------------------------------------------------------\n",
      "x1          -153.6864     47.370     -3.244      0.003    -249.953     -57.420\n",
      "x2           981.4060    135.401      7.248      0.000     706.238    1256.574\n",
      "x3          1190.5965     60.323     19.737      0.000    1068.005    1313.188\n",
      "x4          -207.1544    114.201     -1.814      0.079    -439.239      24.930\n",
      "x5           187.2543     47.815      3.916      0.000      90.082     284.427\n",
      "x6           956.4966     34.258     27.921      0.000     886.877    1026.116\n",
      "==============================================================================\n",
      "Omnibus:                       20.771   Durbin-Watson:                   2.005\n",
      "Prob(Omnibus):                  0.000   Jarque-Bera (JB):               40.311\n",
      "Skew:                          -1.294   Prob(JB):                     1.76e-09\n",
      "Kurtosis:                       7.182   Cond. No.                         17.8\n",
      "==============================================================================\n",
      "\n",
      "Notes:\n",
      "[1] Standard Errors assume that the covariance matrix of the errors is correctly specified.\n",
      "                            OLS Regression Results                            \n",
      "==============================================================================\n",
      "Dep. Variable:                      y   R-squared:                       0.908\n",
      "Model:                            OLS   Adj. R-squared:                  0.894\n",
      "Method:                 Least Squares   F-statistic:                     66.81\n",
      "Date:                Fri, 21 Jul 2023   Prob (F-statistic):           1.33e-16\n",
      "Time:                        10:49:03   Log-Likelihood:                 70.275\n",
      "No. Observations:                  40   AIC:                            -128.6\n",
      "Df Residuals:                      34   BIC:                            -118.4\n",
      "Df Model:                           5                                         \n",
      "Covariance Type:            nonrobust                                         \n",
      "==============================================================================\n",
      "                 coef    std err          t      P>|t|      [0.025      0.975]\n",
      "------------------------------------------------------------------------------\n",
      "x1             1.2486      0.081     15.440      0.000       1.084       1.413\n",
      "x2             0.6572      0.231      2.843      0.008       0.187       1.127\n",
      "x3             0.6274      0.103      6.092      0.000       0.418       0.837\n",
      "x4             1.6802      0.195      8.618      0.000       1.284       2.076\n",
      "x5             0.6329      0.082      7.753      0.000       0.467       0.799\n",
      "x6             0.1302      0.058      2.226      0.033       0.011       0.249\n",
      "==============================================================================\n",
      "Omnibus:                       21.709   Durbin-Watson:                   2.338\n",
      "Prob(Omnibus):                  0.000   Jarque-Bera (JB):               39.401\n",
      "Skew:                           1.415   Prob(JB):                     2.78e-09\n",
      "Kurtosis:                       6.953   Cond. No.                         17.8\n",
      "==============================================================================\n",
      "\n",
      "Notes:\n",
      "[1] Standard Errors assume that the covariance matrix of the errors is correctly specified.\n"
     ]
    }
   ],
   "source": [
    "get_regression_results(\n",
    "    file_paths = '/scratch/myh2014/modeling-training/results/modular/',\n",
    "    column = 'eval_accuracy',\n",
    "    threshold = 0.9,\n",
    "    num_iters=1000\n",
    ")"
   ]
  },
  {
   "cell_type": "code",
   "execution_count": 79,
   "metadata": {},
   "outputs": [
    {
     "name": "stdout",
     "output_type": "stream",
     "text": [
      "                            OLS Regression Results                            \n",
      "==============================================================================\n",
      "Dep. Variable:                      y   R-squared:                       0.961\n",
      "Model:                            OLS   Adj. R-squared:                  0.955\n",
      "Method:                 Least Squares   F-statistic:                     166.2\n",
      "Date:                Fri, 21 Jul 2023   Prob (F-statistic):           7.08e-23\n",
      "Time:                        15:36:33   Log-Likelihood:                -108.04\n",
      "No. Observations:                  40   AIC:                             228.1\n",
      "Df Residuals:                      34   BIC:                             238.2\n",
      "Df Model:                           5                                         \n",
      "Covariance Type:            nonrobust                                         \n",
      "==============================================================================\n",
      "                 coef    std err          t      P>|t|      [0.025      0.975]\n",
      "------------------------------------------------------------------------------\n",
      "x1             0.7782      0.103      7.579      0.000       0.570       0.987\n",
      "x2             0.4132      0.136      3.037      0.005       0.137       0.690\n",
      "x3             0.9874      0.295      3.352      0.002       0.389       1.586\n",
      "x4            -0.2310      0.078     -2.950      0.006      -0.390      -0.072\n",
      "x5             0.5808      0.130      4.453      0.000       0.316       0.846\n",
      "x6             1.1391      0.089     12.756      0.000       0.958       1.321\n",
      "==============================================================================\n",
      "Omnibus:                        5.567   Durbin-Watson:                   1.415\n",
      "Prob(Omnibus):                  0.062   Jarque-Bera (JB):                4.190\n",
      "Skew:                           0.692   Prob(JB):                        0.123\n",
      "Kurtosis:                       3.774   Cond. No.                         67.4\n",
      "==============================================================================\n",
      "\n",
      "Notes:\n",
      "[1] Standard Errors assume that the covariance matrix of the errors is correctly specified.\n",
      "                            OLS Regression Results                            \n",
      "==============================================================================\n",
      "Dep. Variable:                      y   R-squared:                       0.154\n",
      "Model:                            OLS   Adj. R-squared:                  0.029\n",
      "Method:                 Least Squares   F-statistic:                     1.234\n",
      "Date:                Fri, 21 Jul 2023   Prob (F-statistic):              0.315\n",
      "Time:                        15:36:33   Log-Likelihood:                 210.69\n",
      "No. Observations:                  40   AIC:                            -409.4\n",
      "Df Residuals:                      34   BIC:                            -399.3\n",
      "Df Model:                           5                                         \n",
      "Covariance Type:            nonrobust                                         \n",
      "==============================================================================\n",
      "                 coef    std err          t      P>|t|      [0.025      0.975]\n",
      "------------------------------------------------------------------------------\n",
      "x1             0.0033   3.56e-05     94.054      0.000       0.003       0.003\n",
      "x2             0.0033   4.71e-05     70.652      0.000       0.003       0.003\n",
      "x3             0.0034      0.000     33.457      0.000       0.003       0.004\n",
      "x4             0.0033   2.71e-05    122.309      0.000       0.003       0.003\n",
      "x5             0.0034   4.52e-05     74.839      0.000       0.003       0.003\n",
      "x6             0.0033   3.09e-05    106.034      0.000       0.003       0.003\n",
      "==============================================================================\n",
      "Omnibus:                       70.006   Durbin-Watson:                   2.082\n",
      "Prob(Omnibus):                  0.000   Jarque-Bera (JB):              798.616\n",
      "Skew:                          -4.219   Prob(JB):                    3.83e-174\n",
      "Kurtosis:                      23.198   Cond. No.                         67.4\n",
      "==============================================================================\n",
      "\n",
      "Notes:\n",
      "[1] Standard Errors assume that the covariance matrix of the errors is correctly specified.\n"
     ]
    }
   ],
   "source": [
    "get_regression_results(\n",
    "    file_paths = '/scratch/myh2014/modeling-training/results/parities/',\n",
    "    column = 'eval_accuracy',\n",
    "    threshold = 0.9,\n",
    "    num_iters=1000\n",
    ")"
   ]
  },
  {
   "cell_type": "code",
   "execution_count": 8,
   "metadata": {},
   "outputs": [
    {
     "name": "stdout",
     "output_type": "stream",
     "text": [
      "                            OLS Regression Results                            \n",
      "==============================================================================\n",
      "Dep. Variable:                      y   R-squared:                       0.049\n",
      "Model:                            OLS   Adj. R-squared:                 -0.031\n",
      "Method:                 Least Squares   F-statistic:                    0.6131\n",
      "Date:                Mon, 14 Aug 2023   Prob (F-statistic):              0.611\n",
      "Time:                        13:00:27   Log-Likelihood:                -129.01\n",
      "No. Observations:                  40   AIC:                             266.0\n",
      "Df Residuals:                      36   BIC:                             272.8\n",
      "Df Model:                           3                                         \n",
      "Covariance Type:            nonrobust                                         \n",
      "==============================================================================\n",
      "                 coef    std err          t      P>|t|      [0.025      0.975]\n",
      "------------------------------------------------------------------------------\n",
      "const               0          0        nan        nan           0           0\n",
      "x1             1.7438      0.502      3.473      0.001       0.725       2.762\n",
      "x2             0.8328      0.318      2.619      0.013       0.188       1.478\n",
      "x3          1.439e-16   5.36e-17      2.685      0.011    3.52e-17    2.53e-16\n",
      "x4             1.2458      0.239      5.223      0.000       0.762       1.730\n",
      "x5             0.6960      0.416      1.673      0.103      -0.148       1.540\n",
      "==============================================================================\n",
      "Omnibus:                        2.503   Durbin-Watson:                   1.958\n",
      "Prob(Omnibus):                  0.286   Jarque-Bera (JB):                2.135\n",
      "Skew:                           0.559   Prob(JB):                        0.344\n",
      "Kurtosis:                       2.827   Cond. No.                          inf\n",
      "==============================================================================\n",
      "\n",
      "Notes:\n",
      "[1] Standard Errors assume that the covariance matrix of the errors is correctly specified.\n",
      "[2] The smallest eigenvalue is      0. This might indicate that there are\n",
      "strong multicollinearity problems or that the design matrix is singular.\n",
      "                            OLS Regression Results                            \n",
      "==============================================================================\n",
      "Dep. Variable:                      y   R-squared:                       0.063\n",
      "Model:                            OLS   Adj. R-squared:                 -0.016\n",
      "Method:                 Least Squares   F-statistic:                    0.8002\n",
      "Date:                Mon, 14 Aug 2023   Prob (F-statistic):              0.502\n",
      "Time:                        13:00:27   Log-Likelihood:                 233.50\n",
      "No. Observations:                  40   AIC:                            -459.0\n",
      "Df Residuals:                      36   BIC:                            -452.2\n",
      "Df Model:                           3                                         \n",
      "Covariance Type:            nonrobust                                         \n",
      "==============================================================================\n",
      "                 coef    std err          t      P>|t|      [0.025      0.975]\n",
      "------------------------------------------------------------------------------\n",
      "const               0          0        nan        nan           0           0\n",
      "x1             0.0098   5.82e-05    168.688      0.000       0.010       0.010\n",
      "x2             0.0098   3.68e-05    265.740      0.000       0.010       0.010\n",
      "x3          8.986e-19   6.21e-21    144.653      0.000    8.86e-19    9.11e-19\n",
      "x4             0.0098   2.76e-05    353.509      0.000       0.010       0.010\n",
      "x5             0.0097   4.82e-05    201.467      0.000       0.010       0.010\n",
      "==============================================================================\n",
      "Omnibus:                        0.804   Durbin-Watson:                   2.054\n",
      "Prob(Omnibus):                  0.669   Jarque-Bera (JB):                0.253\n",
      "Skew:                           0.163   Prob(JB):                        0.881\n",
      "Kurtosis:                       3.213   Cond. No.                          inf\n",
      "==============================================================================\n",
      "\n",
      "Notes:\n",
      "[1] Standard Errors assume that the covariance matrix of the errors is correctly specified.\n",
      "[2] The smallest eigenvalue is      0. This might indicate that there are\n",
      "strong multicollinearity problems or that the design matrix is singular.\n"
     ]
    },
    {
     "name": "stderr",
     "output_type": "stream",
     "text": [
      "/ext3/miniconda3/lib/python3.9/site-packages/statsmodels/regression/linear_model.py:1934: RuntimeWarning: divide by zero encountered in double_scalars\n",
      "  return np.sqrt(eigvals[0]/eigvals[-1])\n",
      "/ext3/miniconda3/lib/python3.9/site-packages/statsmodels/regression/linear_model.py:1934: RuntimeWarning: divide by zero encountered in double_scalars\n",
      "  return np.sqrt(eigvals[0]/eigvals[-1])\n"
     ]
    }
   ],
   "source": [
    "get_regression_results(\n",
    "    file_paths = '/scratch/myh2014/modeling-training/results/mnist_v2/',\n",
    "    column = 'eval_accuracy',\n",
    "    threshold = 0.97\n",
    ")"
   ]
  },
  {
   "cell_type": "code",
   "execution_count": 6,
   "metadata": {},
   "outputs": [
    {
     "name": "stdout",
     "output_type": "stream",
     "text": [
      "                            OLS Regression Results                            \n",
      "==============================================================================\n",
      "Dep. Variable:                      y   R-squared:                       0.905\n",
      "Model:                            OLS   Adj. R-squared:                  0.894\n",
      "Method:                 Least Squares   F-statistic:                     82.98\n",
      "Date:                Wed, 09 Aug 2023   Prob (F-statistic):           2.33e-17\n",
      "Time:                        21:53:40   Log-Likelihood:                -211.24\n",
      "No. Observations:                  40   AIC:                             432.5\n",
      "Df Residuals:                      35   BIC:                             440.9\n",
      "Df Model:                           4                                         \n",
      "Covariance Type:            nonrobust                                         \n",
      "==============================================================================\n",
      "                 coef    std err          t      P>|t|      [0.025      0.975]\n",
      "------------------------------------------------------------------------------\n",
      "x1             0.6554      0.328      1.996      0.054      -0.011       1.322\n",
      "x2             1.1956      0.147      8.160      0.000       0.898       1.493\n",
      "x3             0.2849      0.163      1.743      0.090      -0.047       0.617\n",
      "x4             1.9181      0.089     21.569      0.000       1.738       2.099\n",
      "x5             1.1205      1.577      0.711      0.482      -2.081       4.322\n",
      "==============================================================================\n",
      "Omnibus:                       20.718   Durbin-Watson:                   1.766\n",
      "Prob(Omnibus):                  0.000   Jarque-Bera (JB):               42.079\n",
      "Skew:                           1.260   Prob(JB):                     7.29e-10\n",
      "Kurtosis:                       7.347   Cond. No.                         33.5\n",
      "==============================================================================\n",
      "\n",
      "Notes:\n",
      "[1] Standard Errors assume that the covariance matrix of the errors is correctly specified.\n",
      "                            OLS Regression Results                            \n",
      "==============================================================================\n",
      "Dep. Variable:                      y   R-squared:                       0.628\n",
      "Model:                            OLS   Adj. R-squared:                  0.586\n",
      "Method:                 Least Squares   F-statistic:                     14.79\n",
      "Date:                Wed, 09 Aug 2023   Prob (F-statistic):           3.61e-07\n",
      "Time:                        21:53:40   Log-Likelihood:                 39.114\n",
      "No. Observations:                  40   AIC:                            -68.23\n",
      "Df Residuals:                      35   BIC:                            -59.78\n",
      "Df Model:                           4                                         \n",
      "Covariance Type:            nonrobust                                         \n",
      "==============================================================================\n",
      "                 coef    std err          t      P>|t|      [0.025      0.975]\n",
      "------------------------------------------------------------------------------\n",
      "x1             0.0016      0.001      2.473      0.018       0.000       0.003\n",
      "x2             0.0017      0.000      6.119      0.000       0.001       0.002\n",
      "x3             0.0019      0.000      6.001      0.000       0.001       0.003\n",
      "x4             0.0003      0.000      1.916      0.064   -1.95e-05       0.001\n",
      "x5             0.0006      0.003      0.191      0.850      -0.006       0.007\n",
      "==============================================================================\n",
      "Omnibus:                       16.378   Durbin-Watson:                   2.031\n",
      "Prob(Omnibus):                  0.000   Jarque-Bera (JB):               31.963\n",
      "Skew:                          -0.954   Prob(JB):                     1.15e-07\n",
      "Kurtosis:                       6.942   Cond. No.                         33.5\n",
      "==============================================================================\n",
      "\n",
      "Notes:\n",
      "[1] Standard Errors assume that the covariance matrix of the errors is correctly specified.\n"
     ]
    }
   ],
   "source": [
    "get_regression_results(\n",
    "    file_paths = '/scratch/myh2014/modeling-training/results/cifar100_v3/False_False/',\n",
    "    column = 'eval_accuracy',\n",
    "    threshold = 0.4,\n",
    "    num_iters=300\n",
    ")"
   ]
  },
  {
   "cell_type": "code",
   "execution_count": 4,
   "metadata": {},
   "outputs": [
    {
     "name": "stdout",
     "output_type": "stream",
     "text": [
      "                            OLS Regression Results                            \n",
      "==============================================================================\n",
      "Dep. Variable:                      y   R-squared:                       0.172\n",
      "Model:                            OLS   Adj. R-squared:                  0.149\n",
      "Method:                 Least Squares   F-statistic:                     7.282\n",
      "Date:                Mon, 14 Aug 2023   Prob (F-statistic):             0.0107\n",
      "Time:                        12:41:15   Log-Likelihood:                -126.86\n",
      "No. Observations:                  37   AIC:                             257.7\n",
      "Df Residuals:                      35   BIC:                             260.9\n",
      "Df Model:                           1                                         \n",
      "Covariance Type:            nonrobust                                         \n",
      "==============================================================================\n",
      "                 coef    std err          t      P>|t|      [0.025      0.975]\n",
      "------------------------------------------------------------------------------\n",
      "x1             0.3470      0.058      5.981      0.000       0.229       0.465\n",
      "x2             0.6205      0.074      8.343      0.000       0.470       0.772\n",
      "==============================================================================\n",
      "Omnibus:                        3.128   Durbin-Watson:                   1.750\n",
      "Prob(Omnibus):                  0.209   Jarque-Bera (JB):                2.750\n",
      "Skew:                           0.579   Prob(JB):                        0.253\n",
      "Kurtosis:                       2.336   Cond. No.                         1.35\n",
      "==============================================================================\n",
      "\n",
      "Notes:\n",
      "[1] Standard Errors assume that the covariance matrix of the errors is correctly specified.\n",
      "                            OLS Regression Results                            \n",
      "==============================================================================\n",
      "Dep. Variable:                      y   R-squared:                       0.267\n",
      "Model:                            OLS   Adj. R-squared:                  0.246\n",
      "Method:                 Least Squares   F-statistic:                     12.76\n",
      "Date:                Mon, 14 Aug 2023   Prob (F-statistic):            0.00106\n",
      "Time:                        12:41:15   Log-Likelihood:                 27.629\n",
      "No. Observations:                  37   AIC:                            -51.26\n",
      "Df Residuals:                      35   BIC:                            -48.04\n",
      "Df Model:                           1                                         \n",
      "Covariance Type:            nonrobust                                         \n",
      "==============================================================================\n",
      "                 coef    std err          t      P>|t|      [0.025      0.975]\n",
      "------------------------------------------------------------------------------\n",
      "x1             0.0334      0.001     37.454      0.000       0.032       0.035\n",
      "x2             0.0278      0.001     24.351      0.000       0.026       0.030\n",
      "==============================================================================\n",
      "Omnibus:                       18.841   Durbin-Watson:                   2.202\n",
      "Prob(Omnibus):                  0.000   Jarque-Bera (JB):               24.721\n",
      "Skew:                          -1.501   Prob(JB):                     4.28e-06\n",
      "Kurtosis:                       5.649   Cond. No.                         1.35\n",
      "==============================================================================\n",
      "\n",
      "Notes:\n",
      "[1] Standard Errors assume that the covariance matrix of the errors is correctly specified.\n"
     ]
    }
   ],
   "source": [
    "get_regression_results(\n",
    "    file_paths = '/scratch/myh2014/modeling-training/results/parities_adam_ln/',\n",
    "    column = 'eval_accuracy',\n",
    "    threshold = 0.9,\n",
    "    num_iters=1000\n",
    ")"
   ]
  },
  {
   "cell_type": "code",
   "execution_count": 7,
   "metadata": {},
   "outputs": [
    {
     "name": "stdout",
     "output_type": "stream",
     "text": [
      "                            OLS Regression Results                            \n",
      "==============================================================================\n",
      "Dep. Variable:                      y   R-squared:                       0.094\n",
      "Model:                            OLS   Adj. R-squared:                 -0.009\n",
      "Method:                 Least Squares   F-statistic:                    0.9106\n",
      "Date:                Wed, 09 Aug 2023   Prob (F-statistic):              0.469\n",
      "Time:                        21:54:19   Log-Likelihood:                -76.397\n",
      "No. Observations:                  40   AIC:                             162.8\n",
      "Df Residuals:                      35   BIC:                             171.2\n",
      "Df Model:                           4                                         \n",
      "Covariance Type:            nonrobust                                         \n",
      "==============================================================================\n",
      "                 coef    std err          t      P>|t|      [0.025      0.975]\n",
      "------------------------------------------------------------------------------\n",
      "x1             0.2131      0.197      1.081      0.287      -0.187       0.613\n",
      "x2             0.1271      0.161      0.788      0.436      -0.200       0.454\n",
      "x3             0.0056      0.085      0.067      0.947      -0.166       0.177\n",
      "x4             0.1275      0.127      1.004      0.322      -0.130       0.385\n",
      "x5            -0.1685      0.221     -0.762      0.451      -0.617       0.280\n",
      "==============================================================================\n",
      "Omnibus:                        0.910   Durbin-Watson:                   2.262\n",
      "Prob(Omnibus):                  0.635   Jarque-Bera (JB):                0.876\n",
      "Skew:                          -0.156   Prob(JB):                        0.645\n",
      "Kurtosis:                       2.345   Cond. No.                         137.\n",
      "==============================================================================\n",
      "\n",
      "Notes:\n",
      "[1] Standard Errors assume that the covariance matrix of the errors is correctly specified.\n",
      "                            OLS Regression Results                            \n",
      "==============================================================================\n",
      "Dep. Variable:                      y   R-squared:                       0.106\n",
      "Model:                            OLS   Adj. R-squared:                  0.004\n",
      "Method:                 Least Squares   F-statistic:                     1.040\n",
      "Date:                Wed, 09 Aug 2023   Prob (F-statistic):              0.401\n",
      "Time:                        21:54:19   Log-Likelihood:                 172.00\n",
      "No. Observations:                  40   AIC:                            -334.0\n",
      "Df Residuals:                      35   BIC:                            -325.5\n",
      "Df Model:                           4                                         \n",
      "Covariance Type:            nonrobust                                         \n",
      "==============================================================================\n",
      "                 coef    std err          t      P>|t|      [0.025      0.975]\n",
      "------------------------------------------------------------------------------\n",
      "x1             0.0017      0.000      4.395      0.000       0.001       0.003\n",
      "x2             0.0025      0.000      7.756      0.000       0.002       0.003\n",
      "x3             0.0021      0.000     12.592      0.000       0.002       0.002\n",
      "x4             0.0028      0.000     10.783      0.000       0.002       0.003\n",
      "x5             0.0022      0.000      4.929      0.000       0.001       0.003\n",
      "==============================================================================\n",
      "Omnibus:                        0.130   Durbin-Watson:                   2.532\n",
      "Prob(Omnibus):                  0.937   Jarque-Bera (JB):                0.333\n",
      "Skew:                          -0.068   Prob(JB):                        0.847\n",
      "Kurtosis:                       2.574   Cond. No.                         137.\n",
      "==============================================================================\n",
      "\n",
      "Notes:\n",
      "[1] Standard Errors assume that the covariance matrix of the errors is correctly specified.\n"
     ]
    }
   ],
   "source": [
    "get_regression_results(\n",
    "    file_paths = '/scratch/myh2014/modeling-training/results/cifar100_v3/True_True/',\n",
    "    column = 'eval_accuracy',\n",
    "    threshold = 0.4,\n",
    "    num_iters=300\n",
    ")"
   ]
  },
  {
   "cell_type": "code",
   "execution_count": 8,
   "metadata": {},
   "outputs": [
    {
     "name": "stdout",
     "output_type": "stream",
     "text": [
      "                            OLS Regression Results                            \n",
      "==============================================================================\n",
      "Dep. Variable:                      y   R-squared:                       0.514\n",
      "Model:                            OLS   Adj. R-squared:                  0.488\n",
      "Method:                 Least Squares   F-statistic:                     19.58\n",
      "Date:                Wed, 09 Aug 2023   Prob (F-statistic):           1.58e-06\n",
      "Time:                        22:18:07   Log-Likelihood:                -53.447\n",
      "No. Observations:                  40   AIC:                             112.9\n",
      "Df Residuals:                      37   BIC:                             118.0\n",
      "Df Model:                           2                                         \n",
      "Covariance Type:            nonrobust                                         \n",
      "==============================================================================\n",
      "                 coef    std err          t      P>|t|      [0.025      0.975]\n",
      "------------------------------------------------------------------------------\n",
      "x1             1.4100      0.450      3.136      0.003       0.499       2.321\n",
      "x2            -0.1522      0.076     -1.992      0.054      -0.307       0.003\n",
      "x3             0.4896      0.192      2.553      0.015       0.101       0.878\n",
      "==============================================================================\n",
      "Omnibus:                        3.660   Durbin-Watson:                   2.211\n",
      "Prob(Omnibus):                  0.160   Jarque-Bera (JB):                2.097\n",
      "Skew:                           0.314   Prob(JB):                        0.351\n",
      "Kurtosis:                       2.071   Cond. No.                         59.6\n",
      "==============================================================================\n",
      "\n",
      "Notes:\n",
      "[1] Standard Errors assume that the covariance matrix of the errors is correctly specified.\n",
      "                            OLS Regression Results                            \n",
      "==============================================================================\n",
      "Dep. Variable:                      y   R-squared:                       0.023\n",
      "Model:                            OLS   Adj. R-squared:                 -0.030\n",
      "Method:                 Least Squares   F-statistic:                    0.4284\n",
      "Date:                Wed, 09 Aug 2023   Prob (F-statistic):              0.655\n",
      "Time:                        22:18:07   Log-Likelihood:                 45.246\n",
      "No. Observations:                  40   AIC:                            -84.49\n",
      "Df Residuals:                      37   BIC:                            -79.43\n",
      "Df Model:                           2                                         \n",
      "Covariance Type:            nonrobust                                         \n",
      "==============================================================================\n",
      "                 coef    std err          t      P>|t|      [0.025      0.975]\n",
      "------------------------------------------------------------------------------\n",
      "x1             0.0063      0.038      0.166      0.869      -0.071       0.084\n",
      "x2             0.0312      0.006      4.817      0.000       0.018       0.044\n",
      "x3             0.0471      0.016      2.895      0.006       0.014       0.080\n",
      "==============================================================================\n",
      "Omnibus:                       48.160   Durbin-Watson:                   2.053\n",
      "Prob(Omnibus):                  0.000   Jarque-Bera (JB):              199.071\n",
      "Skew:                          -2.978   Prob(JB):                     5.92e-44\n",
      "Kurtosis:                      12.163   Cond. No.                         59.6\n",
      "==============================================================================\n",
      "\n",
      "Notes:\n",
      "[1] Standard Errors assume that the covariance matrix of the errors is correctly specified.\n"
     ]
    }
   ],
   "source": [
    "get_regression_results(\n",
    "    file_paths = '/scratch/myh2014/modeling-training/results/modular_ln/',\n",
    "    column = 'eval_accuracy',\n",
    "    threshold = 0.5,\n",
    "    num_iters=300\n",
    ")"
   ]
  },
  {
   "cell_type": "code",
   "execution_count": 21,
   "metadata": {},
   "outputs": [],
   "source": [
    "class XOnlyDataset(torch.utils.data.Dataset):\n",
    "    def __init__(self, original_dataset):\n",
    "        self.original_dataset = original_dataset\n",
    "    \n",
    "    def __getitem__(self, index):\n",
    "        x, y = self.original_dataset[index]\n",
    "        return x\n",
    "    \n",
    "    def __len__(self):\n",
    "        return len(self.original_dataset)"
   ]
  },
  {
   "cell_type": "code",
   "execution_count": null,
   "metadata": {},
   "outputs": [],
   "source": [
    "# correlation between paths and CKA\n",
    "# note: this analysis takes a really long time. we're running at max batch size, \n",
    "# so it's hard to speed it up without further engineering work\n",
    "# running on the entire trajectory would take like 250 hours.\n",
    "\n",
    "# MNIST\n",
    "data_dir = './data/raw/mnist_v3'\n",
    "transform = transforms.Compose(\n",
    "    [\n",
    "        transforms.ToTensor(),\n",
    "        transforms.Lambda(lambda x: torch.flatten(x)),\n",
    "    ]\n",
    ")\n",
    "# compare on the validation set\n",
    "data = datasets.MNIST(\n",
    "    \"./data\", train=False, download=True, transform=transform\n",
    ")\n",
    "dataloader = torch.utils.data.DataLoader(\n",
    "    XOnlyDataset(data), batch_size=10000, shuffle=False\n",
    ")\n",
    "torch.manual_seed(0)\n",
    "\n",
    "model1 = MLP(input_dim=784, hidden_dims=[800, 800], output_dim=10)\n",
    "model2 = MLP(input_dim=784, hidden_dims=[800, 800], output_dim=10)\n",
    "\n",
    "data_arr = np.zeros((3, 40, 40))\n",
    "\n",
    "for seed_i in range(40):\n",
    "    for seed_j in range(0, seed_i):\n",
    "        model1.load_state_dict(torch.load(\n",
    "            glob.glob(data_dir + f'/*seed{seed_i}*/model_2348.pt')[0]\n",
    "        ))\n",
    "        model2.load_state_dict(torch.load(\n",
    "            glob.glob(data_dir + f'/*seed{seed_j}*/model_2348.pt')[0]\n",
    "        ))\n",
    "\n",
    "        cka = CKA(model1, model2,\n",
    "                    model1_name=\"MLP1\",\n",
    "                    model2_name=\"MLP2\",\n",
    "                    model1_layers=['layers.0', 'layers.1', 'layers.2'],\n",
    "                    model2_layers=['layers.0', 'layers.1', 'layers.2'],\n",
    "                    device='cuda'\n",
    "        )\n",
    "        \n",
    "        with torch.no_grad():\n",
    "            cka.compare(dataloader, only_compare_diagonals=True)\n",
    "            cka_out = cka.export()\n",
    "        \n",
    "        data_arr[:, seed_i, seed_j] = cka_out['CKA'].diag().numpy()"
   ]
  },
  {
   "cell_type": "code",
   "execution_count": 77,
   "metadata": {},
   "outputs": [
    {
     "name": "stdout",
     "output_type": "stream",
     "text": [
      "0.1958741599705748\n",
      "3.701039854527503e-08\n"
     ]
    }
   ],
   "source": [
    "ckas = data_arr[1][np.tril_indices(40, k=-1)]\n",
    "emds = get_emds('/scratch/myh2014/modeling-training/results/mnist/')\n",
    "\n",
    "corr, pval = pearsonr(emds[ckas < 0.98], ckas[ckas < 0.98])\n",
    "print(corr)\n",
    "print(pval)"
   ]
  },
  {
   "cell_type": "code",
   "execution_count": null,
   "metadata": {},
   "outputs": [],
   "source": [
    "# modular addition\n",
    "\n",
    "data = ModularArithmetic(\"add\")\n",
    "dataloader = torch.utils.data.DataLoader(XOnlyDataset(data), batch_size=113*113, shuffle=False)\n",
    "\n",
    "model1 = Transformer(d_model=128, d_head=32, d_vocab=114, num_heads=4, num_layers=1, n_ctx=3)\n",
    "model2 = Transformer(d_model=128, d_head=32, d_vocab=114, num_heads=4, num_layers=1, n_ctx=3)\n",
    "\n",
    "data_dir = './data/raw/modular_v3'\n",
    "data_arr = np.zeros((1, 40, 40))\n",
    "\n",
    "for seed_i in range(40):\n",
    "    for seed_j in range(0, seed_i):\n",
    "        model1.load_state_dict(torch.load(\n",
    "            glob.glob(data_dir + f'/*seed{seed_i}*/model.pt')[0]\n",
    "        ))\n",
    "        model2.load_state_dict(torch.load(\n",
    "            glob.glob(data_dir + f'/*seed{seed_j}*/model.pt')[0]\n",
    "        ))\n",
    "\n",
    "        cka = CKA(model1, model2,\n",
    "                    model1_name=\"MLP1\",\n",
    "                    model2_name=\"MLP2\",\n",
    "                    model1_layers=['blocks.0.mlp'],\n",
    "                    model2_layers=['blocks.0.mlp'],\n",
    "                    device='cuda'\n",
    "        )\n",
    "        \n",
    "        with torch.no_grad():\n",
    "            cka.compare(dataloader, only_compare_diagonals=True)\n",
    "            cka_out = cka.export()\n",
    "        \n",
    "        data_arr[:, seed_i, seed_j] = cka_out['CKA'].diag().numpy()\n",
    "        \n",
    "np.savez(\"./results/cka_modular_addition.npz\", data_arr)"
   ]
  },
  {
   "cell_type": "code",
   "execution_count": 40,
   "metadata": {},
   "outputs": [
    {
     "name": "stdout",
     "output_type": "stream",
     "text": [
      "0.035103880866628474\n",
      "0.3275169811131045\n"
     ]
    }
   ],
   "source": [
    "ckas = data_arr[0][np.tril_indices(40, k=-1)]\n",
    "emds = get_emds('/scratch/myh2014/modeling-training/results/modular/')\n",
    "\n",
    "corr, pval = pearsonr(emds, ckas) #  < 0.98], ckas[ckas < 0.98])\n",
    "print(corr)\n",
    "print(pval)"
   ]
  },
  {
   "cell_type": "code",
   "execution_count": null,
   "metadata": {},
   "outputs": [],
   "source": [
    "# sparse parity\n",
    "\n",
    "data = SparseParity(10000, 40, 3)\n",
    "dataloader = torch.utils.data.DataLoader(XOnlyDataset(data), batch_size=10000, shuffle=False)\n",
    "\n",
    "model1 = MLP(input_dim=40, hidden_dims=[1000], output_dim=1, kaiming_uniform=False)\n",
    "model2 = MLP(input_dim=40, hidden_dims=[1000], output_dim=1, kaiming_uniform=False)\n",
    "\n",
    "data_dir = './data/raw/parities_v3'\n",
    "data_arr = np.zeros((2, 40, 40))\n",
    "\n",
    "for seed_i in range(40):\n",
    "    for seed_j in range(0, seed_i):\n",
    "        model1.load_state_dict(torch.load(\n",
    "            glob.glob(data_dir + f'/*seed{seed_i}*/model.pt')[0]\n",
    "        ))\n",
    "        model2.load_state_dict(torch.load(\n",
    "            glob.glob(data_dir + f'/*seed{seed_j}*/model.pt')[0]\n",
    "        ))\n",
    "\n",
    "        cka = CKA(model1, model2,\n",
    "                    model1_name=\"MLP1\",\n",
    "                    model2_name=\"MLP2\",\n",
    "                    model1_layers=['layers.0', 'layers.1'],\n",
    "                    model2_layers=['layers.0', 'layers.1'],\n",
    "                    device='cuda'\n",
    "        )\n",
    "        \n",
    "        with torch.no_grad():\n",
    "            cka.compare(dataloader, only_compare_diagonals=True)\n",
    "            cka_out = cka.export()\n",
    "        \n",
    "        data_arr[:, seed_i, seed_j] = cka_out['CKA'].diag().numpy()\n",
    "        \n",
    "np.savez(\"./results/cka_sparse_parities.npz\", data_arr)"
   ]
  },
  {
   "cell_type": "code",
   "execution_count": 37,
   "metadata": {},
   "outputs": [
    {
     "name": "stdout",
     "output_type": "stream",
     "text": [
      "-0.1176720423087612\n",
      "0.0009927400182599584\n"
     ]
    }
   ],
   "source": [
    "ckas = data_arr[1][np.tril_indices(40, k=-1)]\n",
    "emds = get_emds('/scratch/myh2014/modeling-training/results/parities/')\n",
    "\n",
    "corr, pval = pearsonr(emds, ckas) #  < 0.98], ckas[ckas < 0.98])\n",
    "print(corr)\n",
    "print(pval)"
   ]
  },
  {
   "cell_type": "code",
   "execution_count": 12,
   "metadata": {},
   "outputs": [
    {
     "name": "stdout",
     "output_type": "stream",
     "text": [
      "0.06279999999999998\n"
     ]
    }
   ],
   "source": [
    "print(np.mean(get_emds('/scratch/myh2014/modeling-training/results/mnist_v2/', 6, 1000)))\n",
    "# print(np.mean(get_emds('/scratch/myh2014/modeling-training/results/parities/')))\n",
    "# print(np.mean(get_emds('/scratch/myh2014/modeling-training/results/modular/')))"
   ]
  },
  {
   "cell_type": "code",
   "execution_count": 11,
   "metadata": {},
   "outputs": [
    {
     "name": "stdout",
     "output_type": "stream",
     "text": [
      "0.03846153846153844\n",
      "0.8058290598290597\n",
      "0.028397435897435933\n"
     ]
    }
   ],
   "source": [
    "print(np.mean(get_emds('/scratch/myh2014/modeling-training/results/modular_ln/', 3, threshold=1000)))\n",
    "print(np.mean(get_emds('/scratch/myh2014/modeling-training/results/cifar100_v3/False_False/', 5, threshold=1000)))\n",
    "print(np.mean(get_emds('/scratch/myh2014/modeling-training/results/cifar100_v3/True_True/', 5, threshold=1000)))"
   ]
  },
  {
   "cell_type": "code",
   "execution_count": 6,
   "metadata": {},
   "outputs": [
    {
     "name": "stdout",
     "output_type": "stream",
     "text": [
      "0.4621621621621621\n"
     ]
    }
   ],
   "source": [
    "print(np.mean(get_emds('/scratch/myh2014/modeling-training/results/parities_adam_ln/', 2, threshold=1000)))"
   ]
  },
  {
   "cell_type": "code",
   "execution_count": 18,
   "metadata": {},
   "outputs": [
    {
     "name": "stdout",
     "output_type": "stream",
     "text": [
      "[[0. 0. 0. 0. 0.]\n",
      " [0. 0. 0. 0. 0.]\n",
      " [0. 0. 0. 0. 0.]\n",
      " [0. 0. 0. 0. 0.]\n",
      " [0. 0. 0. 0. 0.]]\n",
      "0.0\n"
     ]
    }
   ],
   "source": [
    "# need to change step --> epoch again\n",
    "print(np.mean(get_emds('/scratch/myh2014/modeling-training/results/multiberts_diag/')))"
   ]
  },
  {
   "cell_type": "code",
   "execution_count": 66,
   "metadata": {},
   "outputs": [
    {
     "data": {
      "text/plain": [
       "<matplotlib.collections.PathCollection at 0x14c8217c0550>"
      ]
     },
     "execution_count": 66,
     "metadata": {},
     "output_type": "execute_result"
    },
    {
     "data": {
      "image/png": "[encoded data removed]",
      "text/plain": [
       "<Figure size 640x480 with 1 Axes>"
      ]
     },
     "metadata": {},
     "output_type": "display_data"
    }
   ],
   "source": [
    "plt.scatter(emds[ckas < 0.98], ckas[ckas < 0.98])"
   ]
  },
  {
   "cell_type": "code",
   "execution_count": null,
   "metadata": {},
   "outputs": [],
   "source": []
  }
 ],
 "metadata": {
  "kernelspec": {
   "display_name": "Python 3 (base)",
   "language": "python",
   "name": "base"
  },
  "language_info": {
   "codemirror_mode": {
    "name": "ipython",
    "version": 3
   },
   "file_extension": ".py",
   "mimetype": "text/x-python",
   "name": "python",
   "nbconvert_exporter": "python",
   "pygments_lexer": "ipython3",
   "version": "3.11.4"
  }
 },
 "nbformat": 4,
 "nbformat_minor": 4
}
